{
 "cells": [
  {
   "cell_type": "markdown",
   "id": "ab441f09-c956-40be-9f3d-cbf0bfb27aab",
   "metadata": {},
   "source": [
    "# Proyecto Individual - Eyeri Méndez Méndez C24765"
   ]
  },
  {
   "cell_type": "code",
   "execution_count": null,
   "id": "2575fbfd-c117-44de-a0e4-9bed49dbe34b",
   "metadata": {},
   "outputs": [],
   "source": [
    "import dash\n",
    "import seaborn as sns\n",
    "import pandas as pd\n",
    "from GenerarGraficos import GenerarGraficos\n",
    "\n",
    "# Se cargan algunos dataframes\n",
    "iris_df = sns.load_dataset('iris')\n",
    "\n",
    "titanic_df = sns.load_dataset('titanic')\n",
    "\n",
    "df_salarios = pd.read_excel(r'C:\\Users\\em415\\Downloads\\Proyecto Individual\\data\\Base_salarios.xlsx')\n",
    "\n",
    "df_salarios = df_salarios.head(1000)\n",
    "\n",
    "df_population = pd.read_csv(\"https://raw.githubusercontent.com/thepycoach/data-visualization/main/datasets/population/population_total.csv\")\n",
    "paises = ['United States', 'India', 'China', 'Indonesia', 'Brazil']\n",
    "df_population = df_population[df_population['country'].isin(paises)]\n",
    "\n",
    "df_stocks = pd.read_csv(\"https://www.sharpsightlabs.com/datasets/amzn_goog_2000-01-01_to_2020-12-05.csv\")\n",
    "df_stocks.date = pd.to_datetime(df_stocks.date)"
   ]
  },
  {
   "cell_type": "code",
   "execution_count": null,
   "id": "646238b5-65ce-4500-92df-ee13a13d14d2",
   "metadata": {},
   "outputs": [],
   "source": [
    "# Se crea una aplicación de dash vacía\n",
    "app = dash.Dash(__name__)\n",
    "\n",
    "prueba = GenerarGraficos(app)\n",
    "\n",
    "prueba.barras(iris_df, 'species', 'petal_width', \n",
    "              ['Setosa', 'Versicolor', 'Virginica'], \n",
    "              ['Especies', 'Ancho del pétalo'])\n",
    "\n",
    "prueba.barras_agrupadas(titanic_df.dropna(), 'survived', 'fare', 'sex', \n",
    "                        ['No', 'Sí'], ['Sobrevivió', 'Tarifa'], \n",
    "                        ['Sexo', 'Hombre', 'Mujer'])\n",
    "\n",
    "prueba.barras_apiladas(titanic_df.dropna(), 'survived', 'fare', 'sex', \n",
    "                        ['No', 'Sí'], ['Sobrevivió', 'Tarifa'], \n",
    "                        ['Sexo', 'Hombre', 'Mujer'])\n",
    "\n",
    "prueba.histograma(iris_df, 'petal_length', 'sepal_length', 'species',\n",
    "                  ['Setosa', 'Versicolor', 'Virginica'], \n",
    "                  ['Longitud del pétalo', 'Longitud del sépalo'])\n",
    "\n",
    "prueba.dispersion(titanic_df, 'age', 'fare', 'sex', ['Edad', 'Tarifa'], \n",
    "                  ['Sexo', 'Hombre', 'Mujer'], \n",
    "                  ['Sobrevivió', 'Clase', 'Edad', 'Sibsp', 'Parche', 'Tarifa'])\n",
    "\n",
    "prueba.lineas(df_population, 'year', 'population', 'country', \n",
    "              ['Año', 'Población'], \n",
    "              ['País', 'China', 'Brasil', 'Indonesia', 'Estados Unidos', 'India'])\n",
    "\n",
    "prueba.cajas(df_salarios, 'Grupo', 'Salario base', 'Género',\n",
    "             False, False, ['Género', 'Masculino', 'Femenino'])\n",
    "\n",
    "prueba.violines(titanic_df, 'survived', 'age', 'sex',\n",
    "                False, ['Sobrevivió', 'Edad'], \n",
    "                ['Sexo', 'Hombre', 'Mujer'])\n",
    "\n",
    "prueba.areas(df_population, 'year', 'population', 'country', \n",
    "            ['Año', 'Población'], \n",
    "            ['País', 'China', 'Brasil', 'Indonesia', 'Estados Unidos', 'India'])\n",
    "\n",
    "prueba.pastel(df_salarios, 'Salario base', 'Género', \n",
    "             ['Hombre', 'Mujer'])\n",
    "\n",
    "prueba.mapa_calor(iris_df, 'petal_width', 'sepal_width', \n",
    "                  ['Ancho del pétalo', 'Ancho del sépalo'])\n",
    "\n",
    "prueba.densidad(titanic_df, 'age', 'sex',\n",
    "               ['Sexo', 'Hombre', 'Mujer'])\n",
    "\n",
    "prueba.contorno_densidad(df_population, 'year', 'population', \n",
    "                         ['Año', 'Población'])\n",
    "\n",
    "prueba.app.run_server(debug = True)"
   ]
  },
  {
   "cell_type": "code",
   "execution_count": null,
   "id": "5d8bdcbc-36c4-477e-bd96-416e5d98e622",
   "metadata": {},
   "outputs": [],
   "source": [
    "app = dash.Dash(__name__)\n",
    "\n",
    "prueba = GenerarGraficos(app1)\n",
    "\n",
    "prueba.lineas(df_stocks, 'date', 'close', 'stock', \n",
    "              ['Fecha', 'Precio'], \n",
    "              ['Acciones', 'Amazon', 'Google'])\n",
    "\n",
    "app.run_server(debug = True)"
   ]
  },
  {
   "cell_type": "code",
   "execution_count": null,
   "id": "185e9423-ce3b-4fa7-9e9f-8c7bc7c2feb5",
   "metadata": {},
   "outputs": [],
   "source": []
  },
  {
   "cell_type": "code",
   "execution_count": null,
   "id": "e82ca08a-e9ee-4ebf-8297-9175c9abdf77",
   "metadata": {},
   "outputs": [],
   "source": []
  },
  {
   "cell_type": "code",
   "execution_count": null,
   "id": "68e8a908-0ea1-4ee6-95fa-85052db70070",
   "metadata": {},
   "outputs": [],
   "source": []
  },
  {
   "cell_type": "code",
   "execution_count": null,
   "id": "81a83f29-5058-4f65-8414-2ea18cf98f17",
   "metadata": {},
   "outputs": [],
   "source": []
  },
  {
   "cell_type": "code",
   "execution_count": null,
   "id": "4050e5fa-e12c-48c2-bccd-c3066e43ccea",
   "metadata": {},
   "outputs": [],
   "source": []
  },
  {
   "cell_type": "code",
   "execution_count": null,
   "id": "d7240bdd-d817-42aa-bcc1-291973e85d91",
   "metadata": {},
   "outputs": [],
   "source": []
  },
  {
   "cell_type": "code",
   "execution_count": null,
   "id": "7d7101fb-327a-4dc7-8c85-7b781fd0bb3d",
   "metadata": {},
   "outputs": [],
   "source": []
  },
  {
   "cell_type": "code",
   "execution_count": null,
   "id": "41a28b61-e417-4bee-a946-b705a1ad92d3",
   "metadata": {},
   "outputs": [],
   "source": []
  }
 ],
 "metadata": {
  "kernelspec": {
   "display_name": "Python 3 (ipykernel)",
   "language": "python",
   "name": "python3"
  },
  "language_info": {
   "codemirror_mode": {
    "name": "ipython",
    "version": 3
   },
   "file_extension": ".py",
   "mimetype": "text/x-python",
   "name": "python",
   "nbconvert_exporter": "python",
   "pygments_lexer": "ipython3",
   "version": "3.12.3"
  }
 },
 "nbformat": 4,
 "nbformat_minor": 5
}
