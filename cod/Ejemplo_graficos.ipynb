{
 "cells": [
  {
   "cell_type": "markdown",
   "id": "8333c1bf-d492-446a-8b4e-26ba807916b4",
   "metadata": {},
   "source": [
    "# Ejemplo de una aplicación Dash"
   ]
  },
  {
   "cell_type": "code",
   "execution_count": null,
   "id": "e92b7026-d812-4f9c-8fce-650b828cfb38",
   "metadata": {},
   "outputs": [],
   "source": [
    "# Instalar la librería: !pip install dash\n",
    "import dash\n",
    "# Importar los módulos dcc y html (dash_core_components, dash_html_components)\n",
    "from dash import dcc, html\n",
    "\n",
    "# Guardar en una variable la aplicación\n",
    "app = dash.Dash(__name__)\n",
    "\n",
    "# Diseñar la aplicación\n",
    "app.layout = html.Div(children = [\n",
    "\n",
    "    # Título principal\n",
    "    html.H1('Gráficos Interactivos'),\n",
    "\n",
    "    # Enlace para ver el HTML generado por Dash\n",
    "    html.A('Ver HTML', href='/html', target = '_blank'),\n",
    "    \n",
    "])\n",
    "\n",
    "# Correr la aplicación\n",
    "app.run_server(debug = True)"
   ]
  },
  {
   "cell_type": "code",
   "execution_count": null,
   "id": "548e950c-3e29-4b04-a764-ad5e2024b935",
   "metadata": {},
   "outputs": [],
   "source": [
    "app = dash.Dash(__name__)\n",
    "\n",
    "app.layout = html.Div(children = [\n",
    "    \n",
    "    html.H1('Gráficos Interactivos'),\n",
    "\n",
    "    html.A('Ver HTML', href='/html', target = '_blank'),\n",
    "    \n",
    "])\n",
    "\n",
    "nombres = [\n",
    "    \n",
    "    {'label': 'Azul', 'value': 'blue'},\n",
    "    {'label': 'Rojo', 'value': 'red'},\n",
    "    {'label': 'Amarillo', 'value': 'yellow'},\n",
    "\n",
    "]\n",
    "\n",
    "app.layout.children.append(\n",
    "\n",
    "    html.Div([\n",
    "        \n",
    "        html.Div([\n",
    "            \n",
    "            html.Br(),\n",
    "            html.Label('Color:'),\n",
    "            dcc.Dropdown(options = nombres, value = 'blue', \n",
    "                         id = 'lista_desplegable')]),\n",
    "\n",
    "        html.Div([\n",
    "            \n",
    "            html.Br(),\n",
    "            html.Label('Texto: '),\n",
    "            html.Br(),\n",
    "            dcc.Input(type = 'text', id = 'caja_texto')]),\n",
    "\n",
    "        html.Div([\n",
    "            \n",
    "            html.Br(),\n",
    "            html.Label('Colores:'),\n",
    "            html.Br(),\n",
    "            dcc.Checklist(options = nombres, inline = True,\n",
    "                          value = [], id = 'checklist')])\n",
    "\n",
    "    ])\n",
    "        \n",
    ")\n",
    "\n",
    "app.run_server(debug = True)"
   ]
  },
  {
   "cell_type": "code",
   "execution_count": null,
   "id": "f554107c-544b-4a6d-b0de-a700e7b46c08",
   "metadata": {},
   "outputs": [],
   "source": [
    "import seaborn as sns\n",
    "\n",
    "iris_df = sns.load_dataset('iris')\n",
    "\n",
    "titanic_df = sns.load_dataset('titanic')"
   ]
  },
  {
   "cell_type": "code",
   "execution_count": null,
   "id": "70932289-98cf-4b67-be5d-c337500b3759",
   "metadata": {},
   "outputs": [],
   "source": [
    "# Instalar las librerías: !pip install plotly plotly-express\n",
    "import plotly.express as px\n",
    "\n",
    "# Crear un gráfico de barras\n",
    "fig = px.bar(iris_df, x = 'species', y = 'petal_length', \n",
    "             title = 'Gráfico de barras', template = 'plotly')\n",
    "\n",
    "# Mostrar el gráfico\n",
    "fig.show()"
   ]
  },
  {
   "cell_type": "code",
   "execution_count": null,
   "id": "b48b68a7-e826-42c1-b2cb-904e297b46a9",
   "metadata": {},
   "outputs": [],
   "source": [
    "# Crear un gráfico de dispersión\n",
    "fig = px.scatter(iris_df, x = 'sepal_width', y = 'petal_width', \n",
    "                 color = 'species', title = 'Gráfico de dispersión',\n",
    "                template = 'plotly_dark')\n",
    "\n",
    "fig.show()"
   ]
  },
  {
   "cell_type": "code",
   "execution_count": null,
   "id": "85851af8-0958-4969-a2a6-6a9e12426919",
   "metadata": {},
   "outputs": [],
   "source": [
    "# Crear un histograma\n",
    "fig = px.histogram(titanic_df, x = 'survived', y = 'age', \n",
    "                   title = 'Histograma', color = 'sex', \n",
    "                   template = 'ggplot2')\n",
    "\n",
    "fig.update_layout(bargap = 0.1, bargroupgap = 0.1)\n",
    "\n",
    "fig.show()"
   ]
  },
  {
   "cell_type": "code",
   "execution_count": null,
   "id": "c88ff67f-dbe8-47a0-ab49-ba8b7c58c314",
   "metadata": {},
   "outputs": [],
   "source": [
    "app = dash.Dash(__name__)\n",
    "\n",
    "app.layout = html.Div(children = [\n",
    "\n",
    "    html.H1('Gráficos Interactivos'),\n",
    "\n",
    "    html.A('Ver HTML', href='/html', target = '_blank'),\n",
    "\n",
    "    dcc.Graph(id = 'histograma', figure = fig),\n",
    "    \n",
    "])\n",
    "\n",
    "app.run_server(debug = True)"
   ]
  },
  {
   "cell_type": "code",
   "execution_count": null,
   "id": "eb4d916a-ef43-4313-a279-2f5f36b3bca9",
   "metadata": {},
   "outputs": [],
   "source": [
    "import pandas as pd\n",
    "import cufflinks as cf\n",
    "\n",
    "cf.set_config_file(sharing = 'public', theme = 'white', offline = True)\n",
    "\n",
    "df_population = pd.read_csv(\"https://raw.githubusercontent.com/thepycoach/data-visualization/main/datasets/population/population_total.csv\")\n",
    "\n",
    "df_population = df_population.dropna()\n",
    "\n",
    "df_population = df_population.pivot(index = 'year', columns = 'country', values = 'population')\n",
    "\n",
    "df_population = df_population[['United States', 'India', 'China', 'Indonesia', 'Brazil']]\n",
    "\n",
    "df_population.iplot(kind = 'line')"
   ]
  },
  {
   "cell_type": "code",
   "execution_count": null,
   "id": "12b6cd00-3bed-46b3-9e77-3192835b4136",
   "metadata": {},
   "outputs": [],
   "source": []
  },
  {
   "cell_type": "code",
   "execution_count": null,
   "id": "2295686e-076c-4127-888f-fbc188c3a847",
   "metadata": {},
   "outputs": [],
   "source": []
  },
  {
   "cell_type": "code",
   "execution_count": null,
   "id": "191fbe0a-1dbb-42a0-8097-6b806af97582",
   "metadata": {},
   "outputs": [],
   "source": []
  },
  {
   "cell_type": "code",
   "execution_count": null,
   "id": "f462a9e7-be3d-4fb8-9244-06dee9001bda",
   "metadata": {},
   "outputs": [],
   "source": []
  },
  {
   "cell_type": "code",
   "execution_count": null,
   "id": "b3e1f73d-2f81-4ea8-9b91-ea3a5a797fde",
   "metadata": {},
   "outputs": [],
   "source": []
  },
  {
   "cell_type": "code",
   "execution_count": null,
   "id": "ace4d69f-f874-4fad-85a2-fc7bc71b1018",
   "metadata": {},
   "outputs": [],
   "source": []
  }
 ],
 "metadata": {
  "kernelspec": {
   "display_name": "Python 3 (ipykernel)",
   "language": "python",
   "name": "python3"
  },
  "language_info": {
   "codemirror_mode": {
    "name": "ipython",
    "version": 3
   },
   "file_extension": ".py",
   "mimetype": "text/x-python",
   "name": "python",
   "nbconvert_exporter": "python",
   "pygments_lexer": "ipython3",
   "version": "3.12.3"
  }
 },
 "nbformat": 4,
 "nbformat_minor": 5
}
